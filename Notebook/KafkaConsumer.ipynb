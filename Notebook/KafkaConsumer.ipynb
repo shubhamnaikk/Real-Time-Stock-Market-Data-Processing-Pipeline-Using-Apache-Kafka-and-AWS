{
  "nbformat": 4,
  "nbformat_minor": 0,
  "metadata": {
    "colab": {
      "provenance": []
    },
    "kernelspec": {
      "name": "python3",
      "display_name": "Python 3"
    },
    "language_info": {
      "name": "python"
    }
  },
  "cells": [
    {
      "cell_type": "markdown",
      "source": [
        "# **Import libraries**"
      ],
      "metadata": {
        "id": "c5gS3w5j60zP"
      }
    },
    {
      "cell_type": "code",
      "source": [
        "pip install kafka-python"
      ],
      "metadata": {
        "id": "Vgs96-ty2gIn"
      },
      "execution_count": null,
      "outputs": []
    },
    {
      "cell_type": "code",
      "source": [
        "pip install s3fs"
      ],
      "metadata": {
        "id": "krexMetCSPIV"
      },
      "execution_count": null,
      "outputs": []
    },
    {
      "cell_type": "code",
      "execution_count": null,
      "metadata": {
        "id": "YIebV01y01Jq"
      },
      "outputs": [],
      "source": [
        "from kafka import KafkaConsumer\n",
        "from time import sleep\n",
        "from json import dumps,loads\n",
        "import json\n",
        "from s3fs import S3FileSystem"
      ]
    },
    {
      "cell_type": "code",
      "source": [
        "s3 = S3FileSystem()"
      ],
      "metadata": {
        "id": "_DJ_tWwRUh3a"
      },
      "execution_count": null,
      "outputs": []
    },
    {
      "cell_type": "code",
      "source": [
        "consumer = KafkaConsumer(\n",
        "    'demo_test',\n",
        "     bootstrap_servers=[':9092'], #add your IP here\n",
        "    value_deserializer=lambda x: loads(x.decode('utf-8')))"
      ],
      "metadata": {
        "id": "KsnSWvSt2Wt-"
      },
      "execution_count": null,
      "outputs": []
    },
    {
      "cell_type": "code",
      "source": [
        "from s3fs import S3FileSystem\n",
        "import json\n",
        "\n",
        "# Explicitly pass AWS credentials\n",
        "s3 = S3FileSystem(\n",
        "    key='',\n",
        "    secret='',\n",
        "    client_kwargs={'region_name': 'ap-south-1'}\n",
        ")\n",
        "\n",
        "for count, i in enumerate(consumer):\n",
        "    with s3.open(f\"s3://your-bucket-demo/stock_market_{count}.json\", 'w') as file:\n",
        "        json.dump(i.value, file)\n"
      ],
      "metadata": {
        "id": "l6409YocUl8a"
      },
      "execution_count": null,
      "outputs": []
    }
  ]
}