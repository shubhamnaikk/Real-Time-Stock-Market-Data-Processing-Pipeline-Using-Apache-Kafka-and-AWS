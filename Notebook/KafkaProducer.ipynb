{
  "nbformat": 4,
  "nbformat_minor": 0,
  "metadata": {
    "colab": {
      "provenance": []
    },
    "kernelspec": {
      "name": "python3",
      "display_name": "Python 3"
    },
    "language_info": {
      "name": "python"
    }
  },
  "cells": [
    {
      "cell_type": "code",
      "execution_count": null,
      "metadata": {
        "id": "dVtM-xYd0tnt"
      },
      "outputs": [],
      "source": [
        "pip install kafka-python"
      ]
    },
    {
      "cell_type": "code",
      "source": [
        "import pandas as pd\n",
        "from kafka import KafkaProducer\n",
        "from time import sleep\n",
        "from json import dumps\n",
        "import json"
      ],
      "metadata": {
        "id": "Mz_CRAWG070x"
      },
      "execution_count": null,
      "outputs": []
    },
    {
      "cell_type": "code",
      "source": [
        "producer = KafkaProducer(bootstrap_servers=[':9092'], #change ip here\n",
        "                         value_serializer=lambda x:\n",
        "                         dumps(x).encode('utf-8'))"
      ],
      "metadata": {
        "id": "Vv3ycDYA1ASZ"
      },
      "execution_count": null,
      "outputs": []
    },
    {
      "cell_type": "code",
      "source": [
        "producer.send('demo_test', value={'123':'parasdasdmar'})"
      ],
      "metadata": {
        "id": "JbabtqBV1GgB"
      },
      "execution_count": null,
      "outputs": []
    },
    {
      "cell_type": "code",
      "source": [
        "df = pd.read_csv(\"/content/indexProcessed.csv\")"
      ],
      "metadata": {
        "id": "LarfsnIn2H0g"
      },
      "execution_count": null,
      "outputs": []
    },
    {
      "cell_type": "code",
      "source": [
        "df.head()\n"
      ],
      "metadata": {
        "id": "qI6qb8Qe2OVc"
      },
      "execution_count": null,
      "outputs": []
    },
    {
      "cell_type": "code",
      "source": [
        "while True:\n",
        "    dict_stock = df.sample(1).to_dict(orient=\"records\")[0]\n",
        "    producer.send('demo_test', value=dict_stock)\n",
        "    sleep(1)"
      ],
      "metadata": {
        "id": "cMDRo0652Qum"
      },
      "execution_count": null,
      "outputs": []
    },
    {
      "cell_type": "code",
      "source": [
        "producer.flush()"
      ],
      "metadata": {
        "id": "uUw2peJ4VCLV"
      },
      "execution_count": null,
      "outputs": []
    }
  ]
}